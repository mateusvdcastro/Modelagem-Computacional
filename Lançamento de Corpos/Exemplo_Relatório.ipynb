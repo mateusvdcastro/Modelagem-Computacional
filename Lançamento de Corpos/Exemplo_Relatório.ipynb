{
  "nbformat": 4,
  "nbformat_minor": 0,
  "metadata": {
    "colab": {
      "name": "Exemplo_Relatório",
      "provenance": [],
      "collapsed_sections": []
    },
    "kernelspec": {
      "display_name": "Python 3",
      "name": "python3"
    },
    "language_info": {
      "name": "python"
    }
  },
  "cells": [
    {
      "cell_type": "markdown",
      "metadata": {
        "id": "QhhGX_EnL0gV"
      },
      "source": [
        "# Relatório Simulação 1 - Projétil\n",
        "  ### Aluno 01, RA: 000000\n",
        "  ### Aluno 02, RA: 000000\n",
        "  ### Aluno 03, RA: 000000\n"
      ]
    },
    {
      "cell_type": "markdown",
      "metadata": {
        "id": "qJ00x9HDsgMR"
      },
      "source": [
        "# Descrição Geral do Sistema Simulado\n",
        "\n",
        "Informar o que está sendo simulado e apresentar o modelo matemático\n",
        "\n",
        "Exemplo de Equação\n",
        "\n",
        "$\n",
        "\\frac{dv}{dt} = a\n",
        "$"
      ]
    },
    {
      "cell_type": "markdown",
      "source": [
        "# Parâmetros da Simulação\n",
        "\n",
        "## Descrever todos os parâmetros da simulação\n",
        "\n",
        "## Apresentar as simulações que serão realizadas\n",
        "\n",
        "### Simulação 01:\n",
        "\n",
        "- $\\alpha = 0.1$ - descrição do parâmetro $\\alpha$\n",
        "- $\\beta = 0.2$ - descrição do parâmetro $\\beta$\n",
        "- $\\Delta t = 0.01 $ - descrição\n",
        "\n",
        "### Simulação 02:\n",
        "\n",
        "- $\\alpha = 0.2$ - descrição do parâmetro $\\alpha$\n",
        "- $\\beta = 0.3$ - descrição do parâmetro $\\beta$\n",
        "- $\\Delta t = 0.01 $ - descrição\n"
      ],
      "metadata": {
        "id": "hfom8wwTNTf6"
      }
    },
    {
      "cell_type": "code",
      "source": [
        "# Bibliotecas\n",
        "import numpy as np\n",
        "from matplotlib import pyplot as plt"
      ],
      "metadata": {
        "id": "ZqjFIRd7WtQQ"
      },
      "execution_count": 7,
      "outputs": []
    },
    {
      "cell_type": "markdown",
      "source": [
        "# Simulação 01 - Cálculos e Resultados"
      ],
      "metadata": {
        "id": "39P8p_KkV0MC"
      }
    },
    {
      "cell_type": "markdown",
      "source": [
        "## Parâmetros"
      ],
      "metadata": {
        "id": "xp_hAseRV5hc"
      }
    },
    {
      "cell_type": "code",
      "metadata": {
        "id": "OF4VdGUrSH_c"
      },
      "source": [
        "DT = 0.01 #Variação do tempo\n",
        "H0 = 100 # Altura inicial\n",
        "V0 = 0 # Velocidade inicial\n",
        "G = -10 # gravidade\n",
        "TMax = 10 # tempo máximo de simulação\n",
        "\n",
        "# Variáveis\n",
        "v = V0 \n",
        "s = H0\n",
        "\n",
        "# Listas para plot\n",
        "vl = [v] #velocidade\n",
        "sl = [s] #deslocamento\n",
        "tl = np.arange(0,TMax,DT) #tempo\n"
      ],
      "execution_count": 13,
      "outputs": []
    },
    {
      "cell_type": "markdown",
      "metadata": {
        "id": "-tzSTDRFsmH-"
      },
      "source": [
        "##Cálculos"
      ]
    },
    {
      "cell_type": "code",
      "metadata": {
        "id": "bzjeIlOHSafr"
      },
      "source": [
        "for i in np.arange(DT,TMax,DT):\n",
        "  DV = G*DT \n",
        "  DS = v*DT\n",
        "\n",
        "  v = v + DV\n",
        "  s = s + DS\n",
        "\n",
        "  vl.append(v)\n",
        "  sl.append(s)\n"
      ],
      "execution_count": 14,
      "outputs": []
    },
    {
      "cell_type": "markdown",
      "source": [
        "## Gráficos e Análises"
      ],
      "metadata": {
        "id": "8O4xbKA6WzlL"
      }
    },
    {
      "cell_type": "code",
      "source": [
        "# Gráfico 01 - velocidade em função do tempo\n",
        "plt.plot(tl,vl)\n",
        "plt.show()"
      ],
      "metadata": {
        "colab": {
          "base_uri": "https://localhost:8080/",
          "height": 265
        },
        "id": "CW8JVVgwW5c2",
        "outputId": "8d6075ad-8620-478b-9d37-a39977d32a54"
      },
      "execution_count": 15,
      "outputs": [
        {
          "output_type": "display_data",
          "data": {
            "text/plain": [
              "<Figure size 432x288 with 1 Axes>"
            ],
            "image/png": "[encoded data removed]"
          },
          "metadata": {
            "needs_background": "light"
          }
        }
      ]
    },
    {
      "cell_type": "code",
      "source": [
        "# Gráfico 02 - Deslocamento\n",
        "plt.plot(tl,sl)\n",
        "plt.show()"
      ],
      "metadata": {
        "colab": {
          "base_uri": "https://localhost:8080/",
          "height": 265
        },
        "id": "I_SutFjyW36i",
        "outputId": "43a99dff-3cdc-4abe-d54a-7b9b7823ba5f"
      },
      "execution_count": 16,
      "outputs": [
        {
          "output_type": "display_data",
          "data": {
            "text/plain": [
              "<Figure size 432x288 with 1 Axes>"
            ],
            "image/png": "[encoded data removed]"
          },
          "metadata": {
            "needs_background": "light"
          }
        }
      ]
    },
    {
      "cell_type": "markdown",
      "metadata": {
        "id": "ry5K5iH8Wa68"
      },
      "source": [
        "As figuras X e Y indicam blablabla. Podemos observar que.....\n",
        "\n",
        "Comentar tudo o que for observado nos respectivos gráficos."
      ]
    },
    {
      "cell_type": "markdown",
      "metadata": {
        "id": "Fg737HBgLUIz"
      },
      "source": [
        "# Simulação 02 - Cálculos e Resultados\n",
        "\n",
        "IDEM Simulação 01: parâmetros, cálculos e análise"
      ]
    },
    {
      "cell_type": "markdown",
      "source": [
        "# Conclusões do trabalho\n",
        "\n",
        "Descrever os principais achados das simulações.\n"
      ],
      "metadata": {
        "id": "b_ouX7a1XQb4"
      }
    }
  ]
}